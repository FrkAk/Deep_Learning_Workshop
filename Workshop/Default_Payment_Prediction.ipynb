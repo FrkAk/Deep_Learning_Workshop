{
  "nbformat": 4,
  "nbformat_minor": 0,
  "metadata": {
    "colab": {
      "name": "Default Payment Prediction.ipynb",
      "provenance": [],
      "collapsed_sections": [],
      "authorship_tag": "ABX9TyM6wTwy/bLcW+X3V27t8+nL",
      "include_colab_link": true
    },
    "kernelspec": {
      "name": "python3",
      "display_name": "Python 3"
    },
    "language_info": {
      "name": "python"
    }
  },
  "cells": [
    {
      "cell_type": "markdown",
      "metadata": {
        "id": "view-in-github",
        "colab_type": "text"
      },
      "source": [
        "<a href=\"https://colab.research.google.com/github/FrkAk/Deep_Learning_Workshop/blob/master/Workshop/Default_Payment_Prediction.ipynb\" target=\"_parent\"><img src=\"https://colab.research.google.com/assets/colab-badge.svg\" alt=\"Open In Colab\"/></a>"
      ]
    },
    {
      "cell_type": "markdown",
      "source": [
        "## Imports"
      ],
      "metadata": {
        "id": "zxm9WLaCJsW2"
      }
    },
    {
      "cell_type": "code",
      "execution_count": 65,
      "metadata": {
        "id": "o0qP8CbJBtz6"
      },
      "outputs": [],
      "source": [
        "import pandas as pd\n",
        "import numpy as np\n",
        "import matplotlib.pyplot as plt\n",
        "\n",
        "# Make numpy values easier to read.\n",
        "np.set_printoptions(precision=3, suppress=True)\n",
        "\n",
        "import tensorflow as tf\n",
        "from tensorflow.keras import layers"
      ]
    },
    {
      "cell_type": "markdown",
      "source": [
        "# Define Methods"
      ],
      "metadata": {
        "id": "0bfUzP8dJ3Bh"
      }
    },
    {
      "cell_type": "code",
      "source": [
        "def read_dataset(names):\n",
        "  data = pd.read_csv(\"dataset.csv\",\n",
        "                  skiprows=1,\n",
        "                  names=names)\n",
        "  data.head()\n",
        "  return data\n",
        "  \n",
        "def get_dimension(names):\n",
        "  return len(names)\n"
      ],
      "metadata": {
        "id": "mbCSLuOVeNz4"
      },
      "execution_count": 109,
      "outputs": []
    },
    {
      "cell_type": "markdown",
      "source": [
        "## Split the Dataset"
      ],
      "metadata": {
        "id": "JteJHx8AJ-VA"
      }
    },
    {
      "cell_type": "code",
      "source": [
        "def split(data,test_size):\n",
        "  from sklearn.model_selection import train_test_split\n",
        "  train, test = train_test_split(data, test_size=test_size)\n",
        "  # self.train.head()\n",
        "  return train,test"
      ],
      "metadata": {
        "id": "YSPHCBYAE5sc"
      },
      "execution_count": 110,
      "outputs": []
    },
    {
      "cell_type": "markdown",
      "source": [
        "### Extract Labels"
      ],
      "metadata": {
        "id": "voyDAUEyKN9F"
      }
    },
    {
      "cell_type": "code",
      "source": [
        "def extract_features(data,label_name='default.payment.next.month'):\n",
        "  features = data.copy()\n",
        "  labels = data.pop(label_name)\n",
        "  return features,labels"
      ],
      "metadata": {
        "id": "K1MSF9pvDNYq"
      },
      "execution_count": 111,
      "outputs": []
    },
    {
      "cell_type": "markdown",
      "source": [
        "### Convert to NumPy array"
      ],
      "metadata": {
        "id": "2n-s0fvzKYw5"
      }
    },
    {
      "cell_type": "code",
      "source": [
        "def convert_features_frame_to_numpy(frame):\n",
        "    features = np.array(frame)\n",
        "    return features"
      ],
      "metadata": {
        "id": "w9E5_1J9F8lg"
      },
      "execution_count": 112,
      "outputs": []
    },
    {
      "cell_type": "markdown",
      "source": [
        "## Model Structure"
      ],
      "metadata": {
        "id": "HjYjWTzcKegC"
      }
    },
    {
      "cell_type": "code",
      "source": [
        "def create_model(dim):\n",
        "  model = tf.keras.Sequential([\n",
        "    layers.Conv1D(filters=128, kernel_size=3,\n",
        "                  strides=1,\n",
        "                  activation=\"relu\",\n",
        "                  padding='causal',\n",
        "                  input_shape=[dim, 1]),\n",
        "    layers.Dense(128,activation='relu'),\n",
        "    layers.Dense(64,activation='relu'),\n",
        "    # layers.Dense(32,activation='relu'),\n",
        "    layers.Dense(16,activation='relu'),\n",
        "    layers.Dense(1,activation='sigmoid')\n",
        "  ])\n",
        "  model.summary()\n",
        "  return model"
      ],
      "metadata": {
        "id": "p69KAzaxEF7T"
      },
      "execution_count": 113,
      "outputs": []
    },
    {
      "cell_type": "code",
      "source": [
        "def get_model_weights(model):\n",
        "  return model.get_weights()"
      ],
      "metadata": {
        "id": "Zerzw-GkmPNt"
      },
      "execution_count": 114,
      "outputs": []
    },
    {
      "cell_type": "markdown",
      "source": [
        "## Tune the Learning Rate\n",
        "\n",
        "It is needed to pick an optimal learning rate."
      ],
      "metadata": {
        "id": "0Y3TnQ8WKj47"
      }
    },
    {
      "cell_type": "code",
      "source": [
        "def tune_learning_rate(model,features,labels):\n",
        "  # Set the learning rate scheduler\n",
        "  lr_schedule = tf.keras.callbacks.LearningRateScheduler(\n",
        "      lambda epoch: 1e-8 * 10**(epoch / 20))\n",
        "\n",
        "  # Initialize the optimizer\n",
        "  optimizer = tf.keras.optimizers.Adam()\n",
        "\n",
        "  # Set the training parameters\n",
        "  model.compile(loss = tf.keras.losses.BinaryCrossentropy(),\n",
        "                    optimizer = optimizer,metrics=['accuracy'])\n",
        "\n",
        "  # Train the model\n",
        "  history = model.fit(features,labels, epochs=100, callbacks=[lr_schedule])\n",
        "  return history"
      ],
      "metadata": {
        "id": "dFf8LRBVJK2f"
      },
      "execution_count": 115,
      "outputs": []
    },
    {
      "cell_type": "code",
      "source": [
        "def plot_learning_rate(history):\n",
        "  # Define the learning rate array\n",
        "  lrs = 1e-8 * (10 ** (np.arange(100) / 20))\n",
        "\n",
        "  # Set the figure size\n",
        "  plt.figure(figsize=(10, 6))\n",
        "\n",
        "  # Set the grid\n",
        "  plt.grid(True)\n",
        "\n",
        "  # Plot the loss in log scale\n",
        "  plt.semilogx(lrs, history.history[\"loss\"])\n",
        "\n",
        "  # Increase the tickmarks size\n",
        "  plt.tick_params('both', length=10, width=1, which='both')\n",
        "\n",
        "  # Set the plot boundaries\n",
        "  plt.axis([1e-8, 1e-3, 0, 10])"
      ],
      "metadata": {
        "id": "ZoIyW-PWJK7q"
      },
      "execution_count": 116,
      "outputs": []
    },
    {
      "cell_type": "markdown",
      "source": [
        "## Train the model"
      ],
      "metadata": {
        "id": "Z6PVVXmELAPT"
      }
    },
    {
      "cell_type": "code",
      "source": [
        "def model_compile(model,init_weights,learning_rate=8e-5):\n",
        "  # Reset states generated by Keras\n",
        "  tf.keras.backend.clear_session()\n",
        "\n",
        "  # Reset the weights\n",
        "  model.set_weights(init_weights)\n",
        "\n",
        "  model.compile(loss = tf.keras.losses.BinaryCrossentropy(),\n",
        "                optimizer = tf.keras.optimizers.Adam(learning_rate=learning_rate),\n",
        "                metrics=['accuracy'])\n",
        "  return model"
      ],
      "metadata": {
        "id": "uwYQbKCmLDcK"
      },
      "execution_count": 117,
      "outputs": []
    },
    {
      "cell_type": "code",
      "source": [
        "def train_model(model,features,labels):\n",
        "  history = model.fit(features, labels, \n",
        "                      validation_split=0.2,\n",
        "                      shuffle = True,\n",
        "                      epochs=20,)\n",
        "  return history\n"
      ],
      "metadata": {
        "id": "62A5qOLrEQHd"
      },
      "execution_count": 124,
      "outputs": []
    },
    {
      "cell_type": "code",
      "source": [
        "def test_model(model,features, labels):\n",
        "  result = model.evaluate(features, labels)"
      ],
      "metadata": {
        "id": "CEGsvmWYhuLK"
      },
      "execution_count": 125,
      "outputs": []
    },
    {
      "cell_type": "code",
      "source": [
        "def plot_history(history):\n",
        "  # summarize history for accuracy\n",
        "  plt.plot(history.history['accuracy'])\n",
        "  plt.plot(history.history['val_accuracy'])\n",
        "  plt.title('model accuracy')\n",
        "  plt.ylabel('accuracy')\n",
        "  plt.xlabel('epoch')\n",
        "  plt.legend(['train', 'val'], loc='upper left')\n",
        "  plt.show()\n",
        "  # summarize history for loss\n",
        "  plt.plot(history.history['loss'])\n",
        "  plt.plot(history.history['val_loss'])\n",
        "  plt.title('model loss')\n",
        "  plt.ylabel('loss')\n",
        "  plt.xlabel('epoch')\n",
        "  plt.legend(['train', 'val'], loc='upper left')\n",
        "  plt.show()"
      ],
      "metadata": {
        "id": "5NcJUbH4Ww2Z"
      },
      "execution_count": 120,
      "outputs": []
    },
    {
      "cell_type": "markdown",
      "source": [
        "# MAIN"
      ],
      "metadata": {
        "id": "sgbjovqpiNW-"
      }
    },
    {
      "cell_type": "code",
      "source": [
        "names_all=[\"LIMIT_BAL\",\t\"SEX\", \"EDUCATION\",\t\"MARRIAGE\",\t\"AGE\",\n",
        "           \"PAY_0\",\t\"PAY_2\",\t\"PAY_3\",\t\"PAY_4\"\t,\"PAY_5\",\t\"PAY_6\",\n",
        "           \"BILL_AMT1\",\t\"BILL_AMT2\",\t\"BILL_AMT3\",\t\"BILL_AMT4\",\t\"BILL_AMT5\",\t\"BILL_AMT6\",\n",
        "           \"PAY_AMT1\",\t\"PAY_AMT2\",\t\"PAY_AMT3\",\t\"PAY_AMT4\",\t\"PAY_AMT5\",\t\"PAY_AMT6\",\n",
        "           \"default.payment.next.month\"]\n",
        "names_non_demographic=[\"LIMIT_BAL\",\"AGE\",\n",
        "           \"PAY_0\",\t\"PAY_2\",\t\"PAY_3\",\t\"PAY_4\"\t,\"PAY_5\",\t\"PAY_6\",\n",
        "           \"BILL_AMT1\",\t\"BILL_AMT2\",\t\"BILL_AMT3\",\t\"BILL_AMT4\",\t\"BILL_AMT5\",\t\"BILL_AMT6\",\n",
        "           \"PAY_AMT1\",\t\"PAY_AMT2\",\t\"PAY_AMT3\",\t\"PAY_AMT4\",\t\"PAY_AMT5\",\t\"PAY_AMT6\",\n",
        "           \"default.payment.next.month\"]\n",
        "\n",
        "names_non_SEX=[\"LIMIT_BAL\", \"EDUCATION\",\t\"MARRIAGE\",\t\"AGE\",\n",
        "           \"PAY_0\",\t\"PAY_2\",\t\"PAY_3\",\t\"PAY_4\"\t,\"PAY_5\",\t\"PAY_6\",\n",
        "           \"BILL_AMT1\",\t\"BILL_AMT2\",\t\"BILL_AMT3\",\t\"BILL_AMT4\",\t\"BILL_AMT5\",\t\"BILL_AMT6\",\n",
        "           \"PAY_AMT1\",\t\"PAY_AMT2\",\t\"PAY_AMT3\",\t\"PAY_AMT4\",\t\"PAY_AMT5\",\t\"PAY_AMT6\",\n",
        "           \"default.payment.next.month\"]\n",
        "\n",
        "names_non_EDU=[\"LIMIT_BAL\",\t\"SEX\",\t\"MARRIAGE\",\t\"AGE\",\n",
        "           \"PAY_0\",\t\"PAY_2\",\t\"PAY_3\",\t\"PAY_4\"\t,\"PAY_5\",\t\"PAY_6\",\n",
        "           \"BILL_AMT1\",\t\"BILL_AMT2\",\t\"BILL_AMT3\",\t\"BILL_AMT4\",\t\"BILL_AMT5\",\t\"BILL_AMT6\",\n",
        "           \"PAY_AMT1\",\t\"PAY_AMT2\",\t\"PAY_AMT3\",\t\"PAY_AMT4\",\t\"PAY_AMT5\",\t\"PAY_AMT6\",\n",
        "           \"default.payment.next.month\"]\n",
        "\n",
        "names_non_MAR=[\"LIMIT_BAL\",\t\"SEX\", \"EDUCATION\",\t\"AGE\",\n",
        "           \"PAY_0\",\t\"PAY_2\",\t\"PAY_3\",\t\"PAY_4\"\t,\"PAY_5\",\t\"PAY_6\",\n",
        "           \"BILL_AMT1\",\t\"BILL_AMT2\",\t\"BILL_AMT3\",\t\"BILL_AMT4\",\t\"BILL_AMT5\",\t\"BILL_AMT6\",\n",
        "           \"PAY_AMT1\",\t\"PAY_AMT2\",\t\"PAY_AMT3\",\t\"PAY_AMT4\",\t\"PAY_AMT5\",\t\"PAY_AMT6\",\n",
        "           \"default.payment.next.month\"]"
      ],
      "metadata": {
        "id": "-vis92Yyh2xZ"
      },
      "execution_count": 121,
      "outputs": []
    },
    {
      "cell_type": "code",
      "source": [
        "def build_network(data_names,tune=False):\n",
        "  data = read_dataset(data_names)\n",
        "  dim = get_dimension(data_names)\n",
        "  train, test = split(data,test_size=0.2)\n",
        "  train_features, train_labels = extract_features(train,label_name='default.payment.next.month')\n",
        "  test_features, test_labels = extract_features(test,label_name='default.payment.next.month')\n",
        "  \n",
        "  train_features = convert_features_frame_to_numpy(train_features)\n",
        "  test_features = convert_features_frame_to_numpy(test_features)\n",
        "\n",
        "  model = create_model(dim)\n",
        "  init_weights = get_model_weights(model)\n",
        "\n",
        "  if tune:\n",
        "    tune_history = tune_learning_rate(model,train_features,train_labels)\n",
        "    plot_learning_rate(tune_history)\n",
        "  \n",
        "  model = model_compile(model,init_weights,learning_rate=8e-5)\n",
        "  \n",
        "  history = train_model(model,train_features,train_labels)\n",
        "\n",
        "  plot_history(history)\n",
        "\n",
        "  result = test_model(model,test_features, test_labels)\n",
        "\n",
        "  return history, result\n",
        "\n"
      ],
      "metadata": {
        "id": "yR0NIDKNnQhA"
      },
      "execution_count": 126,
      "outputs": []
    },
    {
      "cell_type": "code",
      "source": [
        "all_features_history, all_features_result = build_network(names_all,tune=False)"
      ],
      "metadata": {
        "colab": {
          "base_uri": "https://localhost:8080/"
        },
        "id": "4Q82oWvPiRQg",
        "outputId": "3e1a4a45-efad-4d01-af8f-27db0a0c6ab7"
      },
      "execution_count": null,
      "outputs": [
        {
          "output_type": "stream",
          "name": "stdout",
          "text": [
            "Model: \"sequential\"\n",
            "_________________________________________________________________\n",
            " Layer (type)                Output Shape              Param #   \n",
            "=================================================================\n",
            " conv1d (Conv1D)             (None, 24, 128)           512       \n",
            "                                                                 \n",
            " dense (Dense)               (None, 24, 128)           16512     \n",
            "                                                                 \n",
            " dense_1 (Dense)             (None, 24, 64)            8256      \n",
            "                                                                 \n",
            " dense_2 (Dense)             (None, 24, 16)            1040      \n",
            "                                                                 \n",
            " dense_3 (Dense)             (None, 24, 1)             17        \n",
            "                                                                 \n",
            "=================================================================\n",
            "Total params: 26,337\n",
            "Trainable params: 26,337\n",
            "Non-trainable params: 0\n",
            "_________________________________________________________________\n",
            "Epoch 1/20\n",
            "600/600 [==============================] - 14s 22ms/step - loss: 2.2912 - accuracy: 0.7587 - val_loss: 2.1440 - val_accuracy: 0.7739\n",
            "Epoch 2/20\n",
            "600/600 [==============================] - 11s 19ms/step - loss: 2.1427 - accuracy: 0.7732 - val_loss: 2.0244 - val_accuracy: 0.7749\n",
            "Epoch 3/20\n",
            "600/600 [==============================] - 10s 17ms/step - loss: 2.0378 - accuracy: 0.7715 - val_loss: 1.9299 - val_accuracy: 0.7628\n",
            "Epoch 4/20\n",
            "600/600 [==============================] - 9s 16ms/step - loss: 2.1874 - accuracy: 0.7673 - val_loss: 2.0669 - val_accuracy: 0.7734\n",
            "Epoch 5/20\n",
            "600/600 [==============================] - 16s 26ms/step - loss: 2.0359 - accuracy: 0.7683 - val_loss: 2.0420 - val_accuracy: 0.7431\n",
            "Epoch 6/20\n",
            "600/600 [==============================] - 12s 20ms/step - loss: 2.0808 - accuracy: 0.7730 - val_loss: 2.1501 - val_accuracy: 0.7764\n",
            "Epoch 7/20\n",
            "600/600 [==============================] - 15s 25ms/step - loss: 2.1699 - accuracy: 0.7722 - val_loss: 2.1046 - val_accuracy: 0.7765\n",
            "Epoch 8/20\n",
            "600/600 [==============================] - 8s 13ms/step - loss: 2.0337 - accuracy: 0.7717 - val_loss: 2.1462 - val_accuracy: 0.7756\n",
            "Epoch 9/20\n",
            "600/600 [==============================] - 12s 19ms/step - loss: 2.0697 - accuracy: 0.7730 - val_loss: 2.2252 - val_accuracy: 0.7767\n",
            "Epoch 10/20\n",
            "541/600 [==========================>...] - ETA: 1s - loss: 2.0921 - accuracy: 0.7702"
          ]
        }
      ]
    },
    {
      "cell_type": "code",
      "source": [
        "non_demographic_features_history, non_demographic_features_result = build_network(names_non_demographic,tune=False)"
      ],
      "metadata": {
        "id": "N8_JNvbxqRfi"
      },
      "execution_count": null,
      "outputs": []
    },
    {
      "cell_type": "code",
      "source": [
        "non_SEX_features_history, non_SEX_features_result = build_network(names_non_SEX,tune=False)"
      ],
      "metadata": {
        "id": "Fp_Xd-FrqSwN"
      },
      "execution_count": null,
      "outputs": []
    },
    {
      "cell_type": "code",
      "source": [
        "non_EDU_features_history, non_EDU_features_result = build_network(names_non_EDU,tune=False)"
      ],
      "metadata": {
        "id": "Sfw-NRJsqVKv"
      },
      "execution_count": null,
      "outputs": []
    },
    {
      "cell_type": "code",
      "source": [
        "non_MAR_features_history, non_MAR_features_result = build_network(names_non_MAR,tune=False)"
      ],
      "metadata": {
        "id": "xaen8Xs7qZN2"
      },
      "execution_count": null,
      "outputs": []
    },
    {
      "cell_type": "code",
      "source": [
        ""
      ],
      "metadata": {
        "id": "SBbUKrq3qaMQ"
      },
      "execution_count": null,
      "outputs": []
    }
  ]
}