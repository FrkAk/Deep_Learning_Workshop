{
  "nbformat": 4,
  "nbformat_minor": 0,
  "metadata": {
    "colab": {
      "name": "Default Payment Prediction.ipynb",
      "provenance": [],
      "collapsed_sections": [],
      "authorship_tag": "ABX9TyNWjGHt4SH+A2CVV/LW9v5g",
      "include_colab_link": true
    },
    "kernelspec": {
      "name": "python3",
      "display_name": "Python 3"
    },
    "language_info": {
      "name": "python"
    }
  },
  "cells": [
    {
      "cell_type": "markdown",
      "metadata": {
        "id": "view-in-github",
        "colab_type": "text"
      },
      "source": [
        "<a href=\"https://colab.research.google.com/github/FrkAk/Deep_Learning_Workshop/blob/master/Workshop/Default_Payment_Prediction.ipynb\" target=\"_parent\"><img src=\"https://colab.research.google.com/assets/colab-badge.svg\" alt=\"Open In Colab\"/></a>"
      ]
    },
    {
      "cell_type": "markdown",
      "source": [
        "## Imports"
      ],
      "metadata": {
        "id": "zxm9WLaCJsW2"
      }
    },
    {
      "cell_type": "code",
      "execution_count": 65,
      "metadata": {
        "id": "o0qP8CbJBtz6"
      },
      "outputs": [],
      "source": [
        "import pandas as pd\n",
        "import numpy as np\n",
        "import matplotlib.pyplot as plt\n",
        "\n",
        "# Make numpy values easier to read.\n",
        "np.set_printoptions(precision=3, suppress=True)\n",
        "\n",
        "import tensorflow as tf\n",
        "from tensorflow.keras import layers"
      ]
    },
    {
      "cell_type": "markdown",
      "source": [
        "# Define Methods"
      ],
      "metadata": {
        "id": "0bfUzP8dJ3Bh"
      }
    },
    {
      "cell_type": "code",
      "source": [
        "def read_dataset():\n",
        "  data = pd.read_csv(\"dataset.csv\",\n",
        "                  skiprows=1,\n",
        "                  names=[\"LIMIT_BAL\",\t\"SEX\", \"EDUCATION\",\t\"MARRIAGE\",\t\"AGE\",\n",
        "                          \"PAY_0\",\t\"PAY_2\",\t\"PAY_3\",\t\"PAY_4\"\t,\"PAY_5\",\t\"PAY_6\",\n",
        "                          \"BILL_AMT1\",\t\"BILL_AMT2\",\t\"BILL_AMT3\",\t\"BILL_AMT4\",\t\"BILL_AMT5\",\t\"BILL_AMT6\",\n",
        "                          \"PAY_AMT1\",\t\"PAY_AMT2\",\t\"PAY_AMT3\",\t\"PAY_AMT4\",\t\"PAY_AMT5\",\t\"PAY_AMT6\",\n",
        "                          \"default.payment.next.month\"])\n",
        "  data.head()\n",
        "  return data\n",
        "  \n",
        "def get_dimension(names):\n",
        "  return len(names)\n"
      ],
      "metadata": {
        "id": "mbCSLuOVeNz4"
      },
      "execution_count": 233,
      "outputs": []
    },
    {
      "cell_type": "markdown",
      "source": [
        "## Split the Dataset"
      ],
      "metadata": {
        "id": "JteJHx8AJ-VA"
      }
    },
    {
      "cell_type": "code",
      "source": [
        "def split(data,test_size):\n",
        "  from sklearn.model_selection import train_test_split\n",
        "  train, test = train_test_split(data, test_size=test_size)\n",
        "  # self.train.head()\n",
        "  return train,test"
      ],
      "metadata": {
        "id": "YSPHCBYAE5sc"
      },
      "execution_count": 249,
      "outputs": []
    },
    {
      "cell_type": "markdown",
      "source": [
        "### Extract Labels"
      ],
      "metadata": {
        "id": "voyDAUEyKN9F"
      }
    },
    {
      "cell_type": "code",
      "source": [
        "def extract_features(data,data_names,label_name='default.payment.next.month'):\n",
        "  features = data[data_names[:-1]].values\n",
        "  labels = data[label_name].values\n",
        "  return features,labels"
      ],
      "metadata": {
        "id": "K1MSF9pvDNYq"
      },
      "execution_count": 250,
      "outputs": []
    },
    {
      "cell_type": "markdown",
      "source": [
        "### Convert to NumPy array"
      ],
      "metadata": {
        "id": "2n-s0fvzKYw5"
      }
    },
    {
      "cell_type": "code",
      "source": [
        "def convert_features_frame_to_numpy(frame):\n",
        "    features = np.array(frame)\n",
        "    return features"
      ],
      "metadata": {
        "id": "w9E5_1J9F8lg"
      },
      "execution_count": 251,
      "outputs": []
    },
    {
      "cell_type": "markdown",
      "source": [
        "## Model Structure"
      ],
      "metadata": {
        "id": "HjYjWTzcKegC"
      }
    },
    {
      "cell_type": "code",
      "source": [
        "def create_model(dim):\n",
        "  model = tf.keras.Sequential([\n",
        "    layers.Conv1D(filters=128, kernel_size=3,\n",
        "                  strides=1,\n",
        "                  activation=\"relu\",\n",
        "                  padding='causal',\n",
        "                  input_shape=[dim, 1]),\n",
        "    layers.Dense(128,activation='relu'),\n",
        "    layers.Dense(64,activation='relu'),\n",
        "    # layers.Dense(32,activation='relu'),\n",
        "    layers.Dense(16,activation='relu'),\n",
        "    layers.Flatten(),\n",
        "    layers.Dense(1,activation='sigmoid')\n",
        "  ])\n",
        "  model.summary()\n",
        "  return model"
      ],
      "metadata": {
        "id": "p69KAzaxEF7T"
      },
      "execution_count": 307,
      "outputs": []
    },
    {
      "cell_type": "code",
      "source": [
        "def get_model_weights(model):\n",
        "  return model.get_weights()"
      ],
      "metadata": {
        "id": "Zerzw-GkmPNt"
      },
      "execution_count": 285,
      "outputs": []
    },
    {
      "cell_type": "markdown",
      "source": [
        "## Tune the Learning Rate\n",
        "\n",
        "It is needed to pick an optimal learning rate."
      ],
      "metadata": {
        "id": "0Y3TnQ8WKj47"
      }
    },
    {
      "cell_type": "code",
      "source": [
        "def tune_learning_rate(model,features,labels):\n",
        "  # Set the learning rate scheduler\n",
        "  lr_schedule = tf.keras.callbacks.LearningRateScheduler(\n",
        "      lambda epoch: 1e-8 * 10**(epoch / 20))\n",
        "\n",
        "  # Initialize the optimizer\n",
        "  optimizer = tf.keras.optimizers.Adam()\n",
        "\n",
        "  # Set the training parameters\n",
        "  model.compile(loss = tf.keras.losses.BinaryCrossentropy(),\n",
        "                    optimizer = optimizer,metrics=['accuracy'])\n",
        "\n",
        "  # Train the model\n",
        "  history = model.fit(features,labels, epochs=100, callbacks=[lr_schedule])\n",
        "  return history"
      ],
      "metadata": {
        "id": "dFf8LRBVJK2f"
      },
      "execution_count": 312,
      "outputs": []
    },
    {
      "cell_type": "code",
      "source": [
        "def plot_learning_rate(history):\n",
        "  # Define the learning rate array\n",
        "  lrs = 1e-8 * (10 ** (np.arange(100) / 20))\n",
        "\n",
        "  # Set the figure size\n",
        "  plt.figure(figsize=(10, 6))\n",
        "\n",
        "  # Set the grid\n",
        "  plt.grid(True)\n",
        "\n",
        "  # Plot the loss in log scale\n",
        "  plt.semilogx(lrs, history.history[\"loss\"])\n",
        "\n",
        "  # Increase the tickmarks size\n",
        "  plt.tick_params('both', length=10, width=1, which='both')\n",
        "\n",
        "  # Set the plot boundaries\n",
        "  plt.axis([1e-8, 1e-3, 0, 10])"
      ],
      "metadata": {
        "id": "ZoIyW-PWJK7q"
      },
      "execution_count": 313,
      "outputs": []
    },
    {
      "cell_type": "markdown",
      "source": [
        "## Train the model"
      ],
      "metadata": {
        "id": "Z6PVVXmELAPT"
      }
    },
    {
      "cell_type": "code",
      "source": [
        "def model_compile(model,init_weights,learning_rate=4e-4):\n",
        "  # Reset states generated by Keras\n",
        "  tf.keras.backend.clear_session()\n",
        "\n",
        "  # Reset the weights\n",
        "  model.set_weights(init_weights)\n",
        "\n",
        "  model.compile(loss = tf.keras.losses.BinaryCrossentropy(),\n",
        "                optimizer = tf.keras.optimizers.Adam(learning_rate=learning_rate),\n",
        "                metrics=['accuracy'])\n",
        "  return model"
      ],
      "metadata": {
        "id": "uwYQbKCmLDcK"
      },
      "execution_count": 320,
      "outputs": []
    },
    {
      "cell_type": "code",
      "source": [
        "def train_model(model,features,labels):\n",
        "  history = model.fit(features, labels, \n",
        "                      validation_split=0.2,\n",
        "                      shuffle = True,\n",
        "                      epochs=20,)\n",
        "  return history\n"
      ],
      "metadata": {
        "id": "62A5qOLrEQHd"
      },
      "execution_count": 323,
      "outputs": []
    },
    {
      "cell_type": "code",
      "source": [
        "def test_model(model,features, labels):\n",
        "  result = model.evaluate(features, labels)\n",
        "  return result"
      ],
      "metadata": {
        "id": "CEGsvmWYhuLK"
      },
      "execution_count": 302,
      "outputs": []
    },
    {
      "cell_type": "code",
      "source": [
        "def plot_history(history):\n",
        "  # summarize history for accuracy\n",
        "  plt.plot(history.history['accuracy'])\n",
        "  plt.plot(history.history['val_accuracy'])\n",
        "  plt.title('model accuracy')\n",
        "  plt.ylabel('accuracy')\n",
        "  plt.xlabel('epoch')\n",
        "  plt.legend(['train', 'val'], loc='upper left')\n",
        "  plt.show()\n",
        "  # summarize history for loss\n",
        "  plt.plot(history.history['loss'])\n",
        "  plt.plot(history.history['val_loss'])\n",
        "  plt.title('model loss')\n",
        "  plt.ylabel('loss')\n",
        "  plt.xlabel('epoch')\n",
        "  plt.legend(['train', 'val'], loc='upper left')\n",
        "  plt.show()"
      ],
      "metadata": {
        "id": "5NcJUbH4Ww2Z"
      },
      "execution_count": 303,
      "outputs": []
    },
    {
      "cell_type": "markdown",
      "source": [
        "# MAIN"
      ],
      "metadata": {
        "id": "sgbjovqpiNW-"
      }
    },
    {
      "cell_type": "code",
      "source": [
        "names_all=[\"LIMIT_BAL\",\t\"SEX\", \"EDUCATION\",\t\"MARRIAGE\",\t\"AGE\",\n",
        "           \"PAY_0\",\t\"PAY_2\",\t\"PAY_3\",\t\"PAY_4\"\t,\"PAY_5\",\t\"PAY_6\",\n",
        "           \"BILL_AMT1\",\t\"BILL_AMT2\",\t\"BILL_AMT3\",\t\"BILL_AMT4\",\t\"BILL_AMT5\",\t\"BILL_AMT6\",\n",
        "           \"PAY_AMT1\",\t\"PAY_AMT2\",\t\"PAY_AMT3\",\t\"PAY_AMT4\",\t\"PAY_AMT5\",\t\"PAY_AMT6\",\n",
        "           \"default.payment.next.month\"]\n",
        "\n",
        "names_non_demographic=[\"LIMIT_BAL\",\"AGE\",\n",
        "           \"PAY_0\",\t\"PAY_2\",\t\"PAY_3\",\t\"PAY_4\"\t,\"PAY_5\",\t\"PAY_6\",\n",
        "           \"BILL_AMT1\",\t\"BILL_AMT2\",\t\"BILL_AMT3\",\t\"BILL_AMT4\",\t\"BILL_AMT5\",\t\"BILL_AMT6\",\n",
        "           \"PAY_AMT1\",\t\"PAY_AMT2\",\t\"PAY_AMT3\",\t\"PAY_AMT4\",\t\"PAY_AMT5\",\t\"PAY_AMT6\",\n",
        "           \"default.payment.next.month\"]\n",
        "\n",
        "names_non_SEX=[\"LIMIT_BAL\", \"EDUCATION\",\t\"MARRIAGE\",\t\"AGE\",\n",
        "           \"PAY_0\",\t\"PAY_2\",\t\"PAY_3\",\t\"PAY_4\"\t,\"PAY_5\",\t\"PAY_6\",\n",
        "           \"BILL_AMT1\",\t\"BILL_AMT2\",\t\"BILL_AMT3\",\t\"BILL_AMT4\",\t\"BILL_AMT5\",\t\"BILL_AMT6\",\n",
        "           \"PAY_AMT1\",\t\"PAY_AMT2\",\t\"PAY_AMT3\",\t\"PAY_AMT4\",\t\"PAY_AMT5\",\t\"PAY_AMT6\",\n",
        "           \"default.payment.next.month\"]\n",
        "\n",
        "names_non_EDU=[\"LIMIT_BAL\",\t\"SEX\",\t\"MARRIAGE\",\t\"AGE\",\n",
        "           \"PAY_0\",\t\"PAY_2\",\t\"PAY_3\",\t\"PAY_4\"\t,\"PAY_5\",\t\"PAY_6\",\n",
        "           \"BILL_AMT1\",\t\"BILL_AMT2\",\t\"BILL_AMT3\",\t\"BILL_AMT4\",\t\"BILL_AMT5\",\t\"BILL_AMT6\",\n",
        "           \"PAY_AMT1\",\t\"PAY_AMT2\",\t\"PAY_AMT3\",\t\"PAY_AMT4\",\t\"PAY_AMT5\",\t\"PAY_AMT6\",\n",
        "           \"default.payment.next.month\"]\n",
        "\n",
        "names_non_MAR=[\"LIMIT_BAL\",\t\"SEX\", \"EDUCATION\",\t\"AGE\",\n",
        "           \"PAY_0\",\t\"PAY_2\",\t\"PAY_3\",\t\"PAY_4\"\t,\"PAY_5\",\t\"PAY_6\",\n",
        "           \"BILL_AMT1\",\t\"BILL_AMT2\",\t\"BILL_AMT3\",\t\"BILL_AMT4\",\t\"BILL_AMT5\",\t\"BILL_AMT6\",\n",
        "           \"PAY_AMT1\",\t\"PAY_AMT2\",\t\"PAY_AMT3\",\t\"PAY_AMT4\",\t\"PAY_AMT5\",\t\"PAY_AMT6\",\n",
        "           \"default.payment.next.month\"]\n",
        "\n",
        "names_non_PAY=[\"LIMIT_BAL\",\t\"SEX\", \"EDUCATION\",\t\"MARRIAGE\",\t\"AGE\",\n",
        "           \n",
        "           \"BILL_AMT1\",\t\"BILL_AMT2\",\t\"BILL_AMT3\",\t\"BILL_AMT4\",\t\"BILL_AMT5\",\t\"BILL_AMT6\",\n",
        "           \"PAY_AMT1\",\t\"PAY_AMT2\",\t\"PAY_AMT3\",\t\"PAY_AMT4\",\t\"PAY_AMT5\",\t\"PAY_AMT6\",\n",
        "           \"default.payment.next.month\"]\n",
        "\n",
        "names_non_BILL=[\"LIMIT_BAL\",\t\"SEX\", \"EDUCATION\",\t\"MARRIAGE\",\t\"AGE\",\n",
        "           \"PAY_0\",\t\"PAY_2\",\t\"PAY_3\",\t\"PAY_4\"\t,\"PAY_5\",\t\"PAY_6\",\n",
        "           \n",
        "           \"PAY_AMT1\",\t\"PAY_AMT2\",\t\"PAY_AMT3\",\t\"PAY_AMT4\",\t\"PAY_AMT5\",\t\"PAY_AMT6\",\n",
        "           \"default.payment.next.month\"]\n",
        "\n",
        "names_non_PAY_AMNT=[\"LIMIT_BAL\",\t\"SEX\", \"EDUCATION\",\t\"MARRIAGE\",\t\"AGE\",\n",
        "           \"PAY_0\",\t\"PAY_2\",\t\"PAY_3\",\t\"PAY_4\"\t,\"PAY_5\",\t\"PAY_6\",\n",
        "           \"BILL_AMT1\",\t\"BILL_AMT2\",\t\"BILL_AMT3\",\t\"BILL_AMT4\",\t\"BILL_AMT5\",\t\"BILL_AMT6\",\n",
        "           \n",
        "           \"default.payment.next.month\"]\n",
        "\n",
        "names_non_PAY_ALL=[\"LIMIT_BAL\",\t\"SEX\", \"EDUCATION\",\t\"MARRIAGE\",\t\"AGE\",\n",
        "           \n",
        "           \"BILL_AMT1\",\t\"BILL_AMT2\",\t\"BILL_AMT3\",\t\"BILL_AMT4\",\t\"BILL_AMT5\",\t\"BILL_AMT6\",\n",
        "           \n",
        "           \"default.payment.next.month\"]\n",
        "\n",
        "names_non_BILL_PAY_AMNT=[\"LIMIT_BAL\",\t\"SEX\", \"EDUCATION\",\t\"MARRIAGE\",\"AGE\",\n",
        "           \"PAY_0\",\t\"PAY_2\",\t\"PAY_3\",\t\"PAY_4\"\t,\"PAY_5\",\t\"PAY_6\",\n",
        "           \n",
        "           \"default.payment.next.month\"]\n",
        "\n",
        "names_non_PAY_BILL=[\"LIMIT_BAL\",\t\"SEX\", \"EDUCATION\",\t\"MARRIAGE\",\"AGE\",\n",
        "           \n",
        "           \"PAY_AMT1\",\t\"PAY_AMT2\",\t\"PAY_AMT3\",\t\"PAY_AMT4\",\t\"PAY_AMT5\",\t\"PAY_AMT6\",\n",
        "           \"default.payment.next.month\"]\n",
        "\n",
        "names_non_PAY_BILL_PAY_AMNT=[\"LIMIT_BAL\",\t\"SEX\", \"EDUCATION\",\t\"MARRIAGE\", \"AGE\",\n",
        "           \n",
        "           \"default.payment.next.month\"]\n",
        "\n",
        "names_only_DEMOGRAPH=[\"SEX\", \"EDUCATION\",\"MARRIAGE\",\t\"AGE\",\n",
        "           \n",
        "           \"default.payment.next.month\"]\n"
      ],
      "metadata": {
        "id": "-vis92Yyh2xZ"
      },
      "execution_count": 304,
      "outputs": []
    },
    {
      "cell_type": "code",
      "source": [
        "def build_network(data_names,tune=False):\n",
        "  data = read_dataset()\n",
        "  dim = get_dimension(data_names) - 1\n",
        "  train, test = split(data,test_size=0.2)\n",
        "\n",
        "  train_features, train_labels = extract_features(train,data_names,label_name='default.payment.next.month')\n",
        "  test_features, test_labels = extract_features(test,data_names,label_name='default.payment.next.month')\n",
        "  \n",
        "  train_features = convert_features_frame_to_numpy(train_features)\n",
        "  test_features = convert_features_frame_to_numpy(test_features)\n",
        "\n",
        "  train_labels = convert_features_frame_to_numpy(train_labels)\n",
        "  #train_labels = np.expand_dims(train_labels, axis=0)\n",
        "\n",
        "  test_labels = convert_features_frame_to_numpy(test_labels)\n",
        "  #test_labels = np.expand_dims(test_labels, axis=0)\n",
        "\n",
        "  print(\"Feature Shape: {}\".format(train_features.shape))\n",
        "  print(\"Labels Shape: {}\".format(train_labels.shape))\n",
        "\n",
        "  model = create_model(dim)\n",
        "  init_weights = get_model_weights(model)\n",
        "\n",
        "  if tune:\n",
        "    tune_history = tune_learning_rate(model,train_features,train_labels)\n",
        "    plot_learning_rate(tune_history)\n",
        "    return tune_history, [0,0], model\n",
        "  \n",
        "  else:\n",
        "    model = model_compile(model,init_weights,learning_rate=8e-5)\n",
        "    \n",
        "    history = train_model(model,train_features,train_labels)\n",
        "\n",
        "    plot_history(history)\n",
        "\n",
        "    result = test_model(model,test_features, test_labels)\n",
        "\n",
        "    return history, result, model\n",
        "\n"
      ],
      "metadata": {
        "id": "yR0NIDKNnQhA"
      },
      "execution_count": 326,
      "outputs": []
    },
    {
      "cell_type": "markdown",
      "source": [
        "## Training"
      ],
      "metadata": {
        "id": "y7bLfXzs7i2E"
      }
    },
    {
      "cell_type": "code",
      "source": [
        "all_features_history, all_features_result, all_features_model = build_network(names_all,tune=False)"
      ],
      "metadata": {
        "colab": {
          "base_uri": "https://localhost:8080/",
          "height": 1000
        },
        "id": "4Q82oWvPiRQg",
        "outputId": "5664161b-6ed7-43ef-9519-d2ae01b5373e"
      },
      "execution_count": 327,
      "outputs": [
        {
          "output_type": "stream",
          "name": "stdout",
          "text": [
            "Feature Shape: (24000, 23)\n",
            "Labels Shape: (24000,)\n",
            "Model: \"sequential\"\n",
            "_________________________________________________________________\n",
            " Layer (type)                Output Shape              Param #   \n",
            "=================================================================\n",
            " conv1d (Conv1D)             (None, 23, 128)           512       \n",
            "                                                                 \n",
            " dense (Dense)               (None, 23, 128)           16512     \n",
            "                                                                 \n",
            " dense_1 (Dense)             (None, 23, 64)            8256      \n",
            "                                                                 \n",
            " dense_2 (Dense)             (None, 23, 16)            1040      \n",
            "                                                                 \n",
            " flatten (Flatten)           (None, 368)               0         \n",
            "                                                                 \n",
            " dense_3 (Dense)             (None, 1)                 369       \n",
            "                                                                 \n",
            "=================================================================\n",
            "Total params: 26,689\n",
            "Trainable params: 26,689\n",
            "Non-trainable params: 0\n",
            "_________________________________________________________________\n",
            "Epoch 1/20\n",
            "600/600 [==============================] - 18s 30ms/step - loss: 32.0877 - accuracy: 0.6867 - val_loss: 11.6113 - val_accuracy: 0.6133\n",
            "Epoch 2/20\n",
            "600/600 [==============================] - 12s 20ms/step - loss: 10.8612 - accuracy: 0.6996 - val_loss: 11.7149 - val_accuracy: 0.7340\n",
            "Epoch 3/20\n",
            "600/600 [==============================] - 18s 29ms/step - loss: 11.3311 - accuracy: 0.7033 - val_loss: 6.0428 - val_accuracy: 0.7292\n",
            "Epoch 4/20\n",
            "600/600 [==============================] - 20s 34ms/step - loss: 9.2597 - accuracy: 0.7006 - val_loss: 11.5054 - val_accuracy: 0.7783\n",
            "Epoch 5/20\n",
            "600/600 [==============================] - 15s 25ms/step - loss: 7.9591 - accuracy: 0.7055 - val_loss: 12.0816 - val_accuracy: 0.7006\n",
            "Epoch 6/20\n",
            "600/600 [==============================] - 15s 25ms/step - loss: 8.3481 - accuracy: 0.7062 - val_loss: 7.3151 - val_accuracy: 0.7585\n",
            "Epoch 7/20\n",
            "600/600 [==============================] - 16s 27ms/step - loss: 8.1667 - accuracy: 0.7048 - val_loss: 6.1151 - val_accuracy: 0.7748\n",
            "Epoch 8/20\n",
            "600/600 [==============================] - 14s 23ms/step - loss: 8.4683 - accuracy: 0.7060 - val_loss: 4.4620 - val_accuracy: 0.7621\n",
            "Epoch 9/20\n",
            "600/600 [==============================] - 17s 29ms/step - loss: 7.5716 - accuracy: 0.7046 - val_loss: 12.1279 - val_accuracy: 0.5910\n",
            "Epoch 10/20\n",
            "600/600 [==============================] - 14s 24ms/step - loss: 6.4124 - accuracy: 0.7040 - val_loss: 5.4833 - val_accuracy: 0.7598\n",
            "Epoch 11/20\n",
            "600/600 [==============================] - 16s 27ms/step - loss: 6.3048 - accuracy: 0.7096 - val_loss: 4.4217 - val_accuracy: 0.7671\n",
            "Epoch 12/20\n",
            "600/600 [==============================] - 14s 24ms/step - loss: 6.9777 - accuracy: 0.7066 - val_loss: 4.5990 - val_accuracy: 0.7379\n",
            "Epoch 13/20\n",
            "600/600 [==============================] - 13s 21ms/step - loss: 7.0613 - accuracy: 0.7039 - val_loss: 5.4537 - val_accuracy: 0.6256\n",
            "Epoch 14/20\n",
            "600/600 [==============================] - 15s 26ms/step - loss: 6.1354 - accuracy: 0.7090 - val_loss: 3.2885 - val_accuracy: 0.6860\n",
            "Epoch 15/20\n",
            "600/600 [==============================] - 11s 19ms/step - loss: 5.8880 - accuracy: 0.7118 - val_loss: 4.2581 - val_accuracy: 0.7573\n",
            "Epoch 16/20\n",
            "600/600 [==============================] - 19s 31ms/step - loss: 5.1589 - accuracy: 0.7161 - val_loss: 4.4223 - val_accuracy: 0.6769\n",
            "Epoch 17/20\n",
            "600/600 [==============================] - 17s 28ms/step - loss: 5.5097 - accuracy: 0.7112 - val_loss: 3.8681 - val_accuracy: 0.6873\n",
            "Epoch 18/20\n",
            "600/600 [==============================] - 17s 29ms/step - loss: 5.2275 - accuracy: 0.7134 - val_loss: 2.8704 - val_accuracy: 0.7360\n",
            "Epoch 19/20\n",
            "600/600 [==============================] - 12s 20ms/step - loss: 5.5476 - accuracy: 0.7109 - val_loss: 6.0133 - val_accuracy: 0.5031\n",
            "Epoch 20/20\n",
            "600/600 [==============================] - 16s 27ms/step - loss: 5.1679 - accuracy: 0.7124 - val_loss: 3.2109 - val_accuracy: 0.7752\n"
          ]
        },
        {
          "output_type": "display_data",
          "data": {
            "text/plain": [
              "<Figure size 432x288 with 1 Axes>"
            ],
            "image/png": "[encoded data removed]"
          },
          "metadata": {
            "needs_background": "light"
          }
        },
        {
          "output_type": "display_data",
          "data": {
            "text/plain": [
              "<Figure size 432x288 with 1 Axes>"
            ],
            "image/png": "[encoded data removed]"
          },
          "metadata": {
            "needs_background": "light"
          }
        },
        {
          "output_type": "stream",
          "name": "stdout",
          "text": [
            "188/188 [==============================] - 2s 12ms/step - loss: 3.6908 - accuracy: 0.7738\n"
          ]
        }
      ]
    },
    {
      "cell_type": "code",
      "source": [
        "non_demographic_features_history, non_demographic_features_result, non_demographic_features_model = build_network(names_non_demographic,tune=False)"
      ],
      "metadata": {
        "colab": {
          "base_uri": "https://localhost:8080/"
        },
        "id": "N8_JNvbxqRfi",
        "outputId": "80a67e28-f689-4d7e-ba0b-26631669cf8c"
      },
      "execution_count": null,
      "outputs": [
        {
          "output_type": "stream",
          "name": "stdout",
          "text": [
            "Feature Shape: (24000, 20)\n",
            "Labels Shape: (24000,)\n",
            "Model: \"sequential\"\n",
            "_________________________________________________________________\n",
            " Layer (type)                Output Shape              Param #   \n",
            "=================================================================\n",
            " conv1d (Conv1D)             (None, 20, 128)           512       \n",
            "                                                                 \n",
            " dense (Dense)               (None, 20, 128)           16512     \n",
            "                                                                 \n",
            " dense_1 (Dense)             (None, 20, 64)            8256      \n",
            "                                                                 \n",
            " dense_2 (Dense)             (None, 20, 16)            1040      \n",
            "                                                                 \n",
            " flatten (Flatten)           (None, 320)               0         \n",
            "                                                                 \n",
            " dense_3 (Dense)             (None, 1)                 321       \n",
            "                                                                 \n",
            "=================================================================\n",
            "Total params: 26,641\n",
            "Trainable params: 26,641\n",
            "Non-trainable params: 0\n",
            "_________________________________________________________________\n",
            "Epoch 1/20\n",
            "600/600 [==============================] - 16s 26ms/step - loss: 42.9874 - accuracy: 0.6936 - val_loss: 17.0977 - val_accuracy: 0.7665\n",
            "Epoch 2/20\n",
            "600/600 [==============================] - 19s 32ms/step - loss: 17.0049 - accuracy: 0.7019 - val_loss: 7.7870 - val_accuracy: 0.6660\n",
            "Epoch 3/20\n",
            "468/600 [======================>.......] - ETA: 3s - loss: 11.6892 - accuracy: 0.6995"
          ]
        }
      ]
    },
    {
      "cell_type": "code",
      "source": [
        "non_SEX_features_history, non_SEX_features_result, non_SEX_features_model = build_network(names_non_SEX,tune=False)"
      ],
      "metadata": {
        "id": "Fp_Xd-FrqSwN"
      },
      "execution_count": null,
      "outputs": []
    },
    {
      "cell_type": "code",
      "source": [
        "non_EDU_features_history, non_EDU_features_result, non_EDU_features_model = build_network(names_non_EDU,tune=False)"
      ],
      "metadata": {
        "id": "Sfw-NRJsqVKv"
      },
      "execution_count": null,
      "outputs": []
    },
    {
      "cell_type": "code",
      "source": [
        "non_MAR_features_history, non_MAR_features_result,non_MAR_features_model = build_network(names_non_MAR,tune=False)"
      ],
      "metadata": {
        "id": "xaen8Xs7qZN2"
      },
      "execution_count": null,
      "outputs": []
    },
    {
      "cell_type": "code",
      "source": [
        "non_PAY_features_history, non_PAY_features_result, non_PAY_features_model = build_network(names_non_PAY,tune=False)"
      ],
      "metadata": {
        "id": "3n0U97n23unc"
      },
      "execution_count": null,
      "outputs": []
    },
    {
      "cell_type": "code",
      "source": [
        "non_BILL_features_history, non_BILL_features_result,non_BILL_features_model = build_network(names_non_BILL,tune=False)"
      ],
      "metadata": {
        "id": "vunstpSl35qy"
      },
      "execution_count": null,
      "outputs": []
    },
    {
      "cell_type": "code",
      "source": [
        "non_PAY_AMNT_features_history, non_PAY_AMNT_features_result, non_PAY_AMNT_features_model = build_network(names_non_PAY_AMNT,tune=False)"
      ],
      "metadata": {
        "id": "sUoLBRjW3-p8"
      },
      "execution_count": null,
      "outputs": []
    },
    {
      "cell_type": "code",
      "source": [
        "non_PAY_ALL_features_history, non_PAY_ALL_features_result,non_PAY_ALL_features_model = build_network(names_non_PAY_ALL,tune=False)"
      ],
      "metadata": {
        "id": "4-fVcL6e5ZLV"
      },
      "execution_count": null,
      "outputs": []
    },
    {
      "cell_type": "code",
      "source": [
        "non_BILL_PAY_AMNT_features_history, non_BILL_PAY_AMNT_features_result,non_BILL_PAY_AMNT_features_model = build_network(names_non_BILL_PAY_AMNT,tune=False)"
      ],
      "metadata": {
        "id": "JGOIVyC-5ZgK"
      },
      "execution_count": null,
      "outputs": []
    },
    {
      "cell_type": "code",
      "source": [
        "non_PAY_BILL_features_history, non_PAY_BILL_features_result,non_PAY_BILL_features_model = build_network(names_non_PAY_BILL,tune=False)"
      ],
      "metadata": {
        "id": "xDlURGUo5ZqG"
      },
      "execution_count": null,
      "outputs": []
    },
    {
      "cell_type": "code",
      "source": [
        "non_PAY_BILL_PAY_AMNT_features_history, non_PAY_BILL_PAY_AMNT_features_result, non_PAY_BILL_PAY_AMNT_features_model = build_network(names_non_PAY_BILL_PAY_AMNT,tune=False)"
      ],
      "metadata": {
        "id": "kR8gXZJQ6gZw"
      },
      "execution_count": null,
      "outputs": []
    },
    {
      "cell_type": "code",
      "source": [
        "only_DEMOGRAPH_features_history, only_DEMOGRAPH_features_result,only_DEMOGRAPH_features_model = build_network(names_only_DEMOGRAPH,tune=False)"
      ],
      "metadata": {
        "id": "qONY8swZ7OWk"
      },
      "execution_count": null,
      "outputs": []
    },
    {
      "cell_type": "markdown",
      "source": [
        "# Result\n",
        "\n",
        "In this deep learning task, there are five different data are tested. The aim was trying to investigate demographic features' effect on the prediction of default payment for the next month. The result shows us although some accuracy changes are occurring on a different dataset, there is no clear sign of the effect of demographic features changing the prediction since there is no significant accuracy difference. However, The difference increases when we do not count on education level or marital status. This can raise some questions and needs to investigate further to answer accurately. Example researches could be training the same network on different levels of education or marital status to see the exact effect. However, this needs lots of time, and this may be beyond this task since time is limited. To sum up, it can be said that the model acts almost fairly toward different people."
      ],
      "metadata": {
        "id": "thjEPo8jvKAf"
      }
    },
    {
      "cell_type": "code",
      "source": [
        "from tabulate import tabulate\n",
        "print(tabulate([['all_features', {}],\n",
        "                ['non_demographic_features', {}], \n",
        "                ['non_SEX_features', {}],\n",
        "                ['non_EDU_features', {}],\n",
        "                ['non_MAR_features', {}],\n",
        "                ['non_PAY_features', {}],\n",
        "                ['non_BILL_features', {}],\n",
        "                ['non_PAY_AMNT_features', {}],\n",
        "                ['non_PAY_ALL_features', {}],\n",
        "                ['non_BILL_PAY_AMNT_features', {}],\n",
        "                ['non_PAY_BILL_features', {}],\n",
        "                ['non_PAY_BILL_PAY_AMNT_features', {}],\n",
        "                ['only_DEMOGRAPH_features', {}]], \n",
        "               headers=['Dataset Configuration','Result'],floatfmt=\".2f\").format(all_features_result[1]*100,\n",
        "                                      non_demographic_features_result[1]*100,\n",
        "                                      non_SEX_features_result[1]*100,\n",
        "                                      non_EDU_features_result[1]*100,\n",
        "                                      non_MAR_features_result[1]*100,\n",
        "                                      non_PAY_features_result[1]*100,\n",
        "                                      non_BILL_features_result[1]*100,\n",
        "                                      non_PAY_AMNT_features_result[1]*100,\n",
        "                                      non_PAY_ALL_features_result[1]*100,\n",
        "                                      non_BILL_PAY_AMNT_features_result[1]*100,\n",
        "                                      non_PAY_BILL_features_result[1]*100,\n",
        "                                      non_PAY_BILL_PAY_AMNT_features_result[1]*100,\n",
        "                                      only_DEMOGRAPH_features_result[1]*100))"
      ],
      "metadata": {
        "colab": {
          "base_uri": "https://localhost:8080/"
        },
        "id": "SBbUKrq3qaMQ",
        "outputId": "de74cce4-a948-4c3e-fc8f-766a03177c2c"
      },
      "execution_count": 198,
      "outputs": [
        {
          "output_type": "stream",
          "name": "stdout",
          "text": [
            "Dataset Configuration           Result\n",
            "------------------------------  --------\n",
            "all_features                    74.52428936958313\n",
            "non_demographic_features        77.93650031089783\n",
            "non_SEX_features                67.85363554954529\n",
            "non_EDU_features                75.86883306503296\n",
            "non_MAR_features                77.58405804634094\n",
            "non_PAY_features                77.5009274482727\n",
            "non_BILL_features               77.91389226913452\n",
            "non_PAY_AMNT_features           77.24440693855286\n",
            "non_PAY_ALL_features            77.04306840896606\n",
            "non_BILL_PAY_AMNT_features      75.93470811843872\n",
            "non_PAY_BILL_features           76.35834217071533\n",
            "non_PAY_BILL_PAY_AMNT_features  77.34447717666626\n",
            "only_DEMOGRAPH_features         78.64664196968079\n"
          ]
        }
      ]
    },
    {
      "cell_type": "code",
      "source": [
        "data_names = names_only_DEMOGRAPH\n",
        "tune=False\n",
        "data = read_dataset()\n",
        "dim = get_dimension(data_names)\n",
        "data\n",
        "\n"
      ],
      "metadata": {
        "colab": {
          "base_uri": "https://localhost:8080/",
          "height": 424
        },
        "id": "3yocWEVIMBv8",
        "outputId": "682c7479-2462-4c3a-af61-f68964ec8000"
      },
      "execution_count": 239,
      "outputs": [
        {
          "output_type": "execute_result",
          "data": {
            "text/plain": [
              "       LIMIT_BAL  SEX  EDUCATION  MARRIAGE  AGE  PAY_0  PAY_2  PAY_3  PAY_4  \\\n",
              "1        20000.0    2          2         1   24      2      2     -1     -1   \n",
              "2       120000.0    2          2         2   26     -1      2      0      0   \n",
              "3        90000.0    2          2         2   34      0      0      0      0   \n",
              "4        50000.0    2          2         1   37      0      0      0      0   \n",
              "5        50000.0    1          2         1   57     -1      0     -1      0   \n",
              "...          ...  ...        ...       ...  ...    ...    ...    ...    ...   \n",
              "29996   220000.0    1          3         1   39      0      0      0      0   \n",
              "29997   150000.0    1          3         2   43     -1     -1     -1     -1   \n",
              "29998    30000.0    1          2         2   37      4      3      2     -1   \n",
              "29999    80000.0    1          3         1   41      1     -1      0      0   \n",
              "30000    50000.0    1          2         1   46      0      0      0      0   \n",
              "\n",
              "       PAY_5  ...  BILL_AMT4  BILL_AMT5  BILL_AMT6  PAY_AMT1  PAY_AMT2  \\\n",
              "1         -2  ...        0.0        0.0        0.0       0.0     689.0   \n",
              "2          0  ...     3272.0     3455.0     3261.0       0.0    1000.0   \n",
              "3          0  ...    14331.0    14948.0    15549.0    1518.0    1500.0   \n",
              "4          0  ...    28314.0    28959.0    29547.0    2000.0    2019.0   \n",
              "5          0  ...    20940.0    19146.0    19131.0    2000.0   36681.0   \n",
              "...      ...  ...        ...        ...        ...       ...       ...   \n",
              "29996      0  ...    88004.0    31237.0    15980.0    8500.0   20000.0   \n",
              "29997      0  ...     8979.0     5190.0        0.0    1837.0    3526.0   \n",
              "29998      0  ...    20878.0    20582.0    19357.0       0.0       0.0   \n",
              "29999      0  ...    52774.0    11855.0    48944.0   85900.0    3409.0   \n",
              "30000      0  ...    36535.0    32428.0    15313.0    2078.0    1800.0   \n",
              "\n",
              "       PAY_AMT3  PAY_AMT4  PAY_AMT5  PAY_AMT6  default.payment.next.month  \n",
              "1           0.0       0.0       0.0       0.0                           1  \n",
              "2        1000.0    1000.0       0.0    2000.0                           1  \n",
              "3        1000.0    1000.0    1000.0    5000.0                           0  \n",
              "4        1200.0    1100.0    1069.0    1000.0                           0  \n",
              "5       10000.0    9000.0     689.0     679.0                           0  \n",
              "...         ...       ...       ...       ...                         ...  \n",
              "29996    5003.0    3047.0    5000.0    1000.0                           0  \n",
              "29997    8998.0     129.0       0.0       0.0                           0  \n",
              "29998   22000.0    4200.0    2000.0    3100.0                           1  \n",
              "29999    1178.0    1926.0   52964.0    1804.0                           1  \n",
              "30000    1430.0    1000.0    1000.0    1000.0                           1  \n",
              "\n",
              "[30000 rows x 24 columns]"
            ],
            "text/html": [
              "\n",
              "  <div id=\"df-441dfcbc-0c8a-4a9c-895e-7f6d96fe2cf9\">\n",
              "    <div class=\"colab-df-container\">\n",
              "      <div>\n",
              "<style scoped>\n",
              "    .dataframe tbody tr th:only-of-type {\n",
              "        vertical-align: middle;\n",
              "    }\n",
              "\n",
              "    .dataframe tbody tr th {\n",
              "        vertical-align: top;\n",
              "    }\n",
              "\n",
              "    .dataframe thead th {\n",
              "        text-align: right;\n",
              "    }\n",
              "</style>\n",
              "<table border=\"1\" class=\"dataframe\">\n",
              "  <thead>\n",
              "    <tr style=\"text-align: right;\">\n",
              "      <th></th>\n",
              "      <th>LIMIT_BAL</th>\n",
              "      <th>SEX</th>\n",
              "      <th>EDUCATION</th>\n",
              "      <th>MARRIAGE</th>\n",
              "      <th>AGE</th>\n",
              "      <th>PAY_0</th>\n",
              "      <th>PAY_2</th>\n",
              "      <th>PAY_3</th>\n",
              "      <th>PAY_4</th>\n",
              "      <th>PAY_5</th>\n",
              "      <th>...</th>\n",
              "      <th>BILL_AMT4</th>\n",
              "      <th>BILL_AMT5</th>\n",
              "      <th>BILL_AMT6</th>\n",
              "      <th>PAY_AMT1</th>\n",
              "      <th>PAY_AMT2</th>\n",
              "      <th>PAY_AMT3</th>\n",
              "      <th>PAY_AMT4</th>\n",
              "      <th>PAY_AMT5</th>\n",
              "      <th>PAY_AMT6</th>\n",
              "      <th>default.payment.next.month</th>\n",
              "    </tr>\n",
              "  </thead>\n",
              "  <tbody>\n",
              "    <tr>\n",
              "      <th>1</th>\n",
              "      <td>20000.0</td>\n",
              "      <td>2</td>\n",
              "      <td>2</td>\n",
              "      <td>1</td>\n",
              "      <td>24</td>\n",
              "      <td>2</td>\n",
              "      <td>2</td>\n",
              "      <td>-1</td>\n",
              "      <td>-1</td>\n",
              "      <td>-2</td>\n",
              "      <td>...</td>\n",
              "      <td>0.0</td>\n",
              "      <td>0.0</td>\n",
              "      <td>0.0</td>\n",
              "      <td>0.0</td>\n",
              "      <td>689.0</td>\n",
              "      <td>0.0</td>\n",
              "      <td>0.0</td>\n",
              "      <td>0.0</td>\n",
              "      <td>0.0</td>\n",
              "      <td>1</td>\n",
              "    </tr>\n",
              "    <tr>\n",
              "      <th>2</th>\n",
              "      <td>120000.0</td>\n",
              "      <td>2</td>\n",
              "      <td>2</td>\n",
              "      <td>2</td>\n",
              "      <td>26</td>\n",
              "      <td>-1</td>\n",
              "      <td>2</td>\n",
              "      <td>0</td>\n",
              "      <td>0</td>\n",
              "      <td>0</td>\n",
              "      <td>...</td>\n",
              "      <td>3272.0</td>\n",
              "      <td>3455.0</td>\n",
              "      <td>3261.0</td>\n",
              "      <td>0.0</td>\n",
              "      <td>1000.0</td>\n",
              "      <td>1000.0</td>\n",
              "      <td>1000.0</td>\n",
              "      <td>0.0</td>\n",
              "      <td>2000.0</td>\n",
              "      <td>1</td>\n",
              "    </tr>\n",
              "    <tr>\n",
              "      <th>3</th>\n",
              "      <td>90000.0</td>\n",
              "      <td>2</td>\n",
              "      <td>2</td>\n",
              "      <td>2</td>\n",
              "      <td>34</td>\n",
              "      <td>0</td>\n",
              "      <td>0</td>\n",
              "      <td>0</td>\n",
              "      <td>0</td>\n",
              "      <td>0</td>\n",
              "      <td>...</td>\n",
              "      <td>14331.0</td>\n",
              "      <td>14948.0</td>\n",
              "      <td>15549.0</td>\n",
              "      <td>1518.0</td>\n",
              "      <td>1500.0</td>\n",
              "      <td>1000.0</td>\n",
              "      <td>1000.0</td>\n",
              "      <td>1000.0</td>\n",
              "      <td>5000.0</td>\n",
              "      <td>0</td>\n",
              "    </tr>\n",
              "    <tr>\n",
              "      <th>4</th>\n",
              "      <td>50000.0</td>\n",
              "      <td>2</td>\n",
              "      <td>2</td>\n",
              "      <td>1</td>\n",
              "      <td>37</td>\n",
              "      <td>0</td>\n",
              "      <td>0</td>\n",
              "      <td>0</td>\n",
              "      <td>0</td>\n",
              "      <td>0</td>\n",
              "      <td>...</td>\n",
              "      <td>28314.0</td>\n",
              "      <td>28959.0</td>\n",
              "      <td>29547.0</td>\n",
              "      <td>2000.0</td>\n",
              "      <td>2019.0</td>\n",
              "      <td>1200.0</td>\n",
              "      <td>1100.0</td>\n",
              "      <td>1069.0</td>\n",
              "      <td>1000.0</td>\n",
              "      <td>0</td>\n",
              "    </tr>\n",
              "    <tr>\n",
              "      <th>5</th>\n",
              "      <td>50000.0</td>\n",
              "      <td>1</td>\n",
              "      <td>2</td>\n",
              "      <td>1</td>\n",
              "      <td>57</td>\n",
              "      <td>-1</td>\n",
              "      <td>0</td>\n",
              "      <td>-1</td>\n",
              "      <td>0</td>\n",
              "      <td>0</td>\n",
              "      <td>...</td>\n",
              "      <td>20940.0</td>\n",
              "      <td>19146.0</td>\n",
              "      <td>19131.0</td>\n",
              "      <td>2000.0</td>\n",
              "      <td>36681.0</td>\n",
              "      <td>10000.0</td>\n",
              "      <td>9000.0</td>\n",
              "      <td>689.0</td>\n",
              "      <td>679.0</td>\n",
              "      <td>0</td>\n",
              "    </tr>\n",
              "    <tr>\n",
              "      <th>...</th>\n",
              "      <td>...</td>\n",
              "      <td>...</td>\n",
              "      <td>...</td>\n",
              "      <td>...</td>\n",
              "      <td>...</td>\n",
              "      <td>...</td>\n",
              "      <td>...</td>\n",
              "      <td>...</td>\n",
              "      <td>...</td>\n",
              "      <td>...</td>\n",
              "      <td>...</td>\n",
              "      <td>...</td>\n",
              "      <td>...</td>\n",
              "      <td>...</td>\n",
              "      <td>...</td>\n",
              "      <td>...</td>\n",
              "      <td>...</td>\n",
              "      <td>...</td>\n",
              "      <td>...</td>\n",
              "      <td>...</td>\n",
              "      <td>...</td>\n",
              "    </tr>\n",
              "    <tr>\n",
              "      <th>29996</th>\n",
              "      <td>220000.0</td>\n",
              "      <td>1</td>\n",
              "      <td>3</td>\n",
              "      <td>1</td>\n",
              "      <td>39</td>\n",
              "      <td>0</td>\n",
              "      <td>0</td>\n",
              "      <td>0</td>\n",
              "      <td>0</td>\n",
              "      <td>0</td>\n",
              "      <td>...</td>\n",
              "      <td>88004.0</td>\n",
              "      <td>31237.0</td>\n",
              "      <td>15980.0</td>\n",
              "      <td>8500.0</td>\n",
              "      <td>20000.0</td>\n",
              "      <td>5003.0</td>\n",
              "      <td>3047.0</td>\n",
              "      <td>5000.0</td>\n",
              "      <td>1000.0</td>\n",
              "      <td>0</td>\n",
              "    </tr>\n",
              "    <tr>\n",
              "      <th>29997</th>\n",
              "      <td>150000.0</td>\n",
              "      <td>1</td>\n",
              "      <td>3</td>\n",
              "      <td>2</td>\n",
              "      <td>43</td>\n",
              "      <td>-1</td>\n",
              "      <td>-1</td>\n",
              "      <td>-1</td>\n",
              "      <td>-1</td>\n",
              "      <td>0</td>\n",
              "      <td>...</td>\n",
              "      <td>8979.0</td>\n",
              "      <td>5190.0</td>\n",
              "      <td>0.0</td>\n",
              "      <td>1837.0</td>\n",
              "      <td>3526.0</td>\n",
              "      <td>8998.0</td>\n",
              "      <td>129.0</td>\n",
              "      <td>0.0</td>\n",
              "      <td>0.0</td>\n",
              "      <td>0</td>\n",
              "    </tr>\n",
              "    <tr>\n",
              "      <th>29998</th>\n",
              "      <td>30000.0</td>\n",
              "      <td>1</td>\n",
              "      <td>2</td>\n",
              "      <td>2</td>\n",
              "      <td>37</td>\n",
              "      <td>4</td>\n",
              "      <td>3</td>\n",
              "      <td>2</td>\n",
              "      <td>-1</td>\n",
              "      <td>0</td>\n",
              "      <td>...</td>\n",
              "      <td>20878.0</td>\n",
              "      <td>20582.0</td>\n",
              "      <td>19357.0</td>\n",
              "      <td>0.0</td>\n",
              "      <td>0.0</td>\n",
              "      <td>22000.0</td>\n",
              "      <td>4200.0</td>\n",
              "      <td>2000.0</td>\n",
              "      <td>3100.0</td>\n",
              "      <td>1</td>\n",
              "    </tr>\n",
              "    <tr>\n",
              "      <th>29999</th>\n",
              "      <td>80000.0</td>\n",
              "      <td>1</td>\n",
              "      <td>3</td>\n",
              "      <td>1</td>\n",
              "      <td>41</td>\n",
              "      <td>1</td>\n",
              "      <td>-1</td>\n",
              "      <td>0</td>\n",
              "      <td>0</td>\n",
              "      <td>0</td>\n",
              "      <td>...</td>\n",
              "      <td>52774.0</td>\n",
              "      <td>11855.0</td>\n",
              "      <td>48944.0</td>\n",
              "      <td>85900.0</td>\n",
              "      <td>3409.0</td>\n",
              "      <td>1178.0</td>\n",
              "      <td>1926.0</td>\n",
              "      <td>52964.0</td>\n",
              "      <td>1804.0</td>\n",
              "      <td>1</td>\n",
              "    </tr>\n",
              "    <tr>\n",
              "      <th>30000</th>\n",
              "      <td>50000.0</td>\n",
              "      <td>1</td>\n",
              "      <td>2</td>\n",
              "      <td>1</td>\n",
              "      <td>46</td>\n",
              "      <td>0</td>\n",
              "      <td>0</td>\n",
              "      <td>0</td>\n",
              "      <td>0</td>\n",
              "      <td>0</td>\n",
              "      <td>...</td>\n",
              "      <td>36535.0</td>\n",
              "      <td>32428.0</td>\n",
              "      <td>15313.0</td>\n",
              "      <td>2078.0</td>\n",
              "      <td>1800.0</td>\n",
              "      <td>1430.0</td>\n",
              "      <td>1000.0</td>\n",
              "      <td>1000.0</td>\n",
              "      <td>1000.0</td>\n",
              "      <td>1</td>\n",
              "    </tr>\n",
              "  </tbody>\n",
              "</table>\n",
              "<p>30000 rows × 24 columns</p>\n",
              "</div>\n",
              "      <button class=\"colab-df-convert\" onclick=\"convertToInteractive('df-441dfcbc-0c8a-4a9c-895e-7f6d96fe2cf9')\"\n",
              "              title=\"Convert this dataframe to an interactive table.\"\n",
              "              style=\"display:none;\">\n",
              "        \n",
              "  <svg xmlns=\"http://www.w3.org/2000/svg\" height=\"24px\"viewBox=\"0 0 24 24\"\n",
              "       width=\"24px\">\n",
              "    <path d=\"M0 0h24v24H0V0z\" fill=\"none\"/>\n",
              "    <path d=\"M18.56 5.44l.94 2.06.94-2.06 2.06-.94-2.06-.94-.94-2.06-.94 2.06-2.06.94zm-11 1L8.5 8.5l.94-2.06 2.06-.94-2.06-.94L8.5 2.5l-.94 2.06-2.06.94zm10 10l.94 2.06.94-2.06 2.06-.94-2.06-.94-.94-2.06-.94 2.06-2.06.94z\"/><path d=\"M17.41 7.96l-1.37-1.37c-.4-.4-.92-.59-1.43-.59-.52 0-1.04.2-1.43.59L10.3 9.45l-7.72 7.72c-.78.78-.78 2.05 0 2.83L4 21.41c.39.39.9.59 1.41.59.51 0 1.02-.2 1.41-.59l7.78-7.78 2.81-2.81c.8-.78.8-2.07 0-2.86zM5.41 20L4 18.59l7.72-7.72 1.47 1.35L5.41 20z\"/>\n",
              "  </svg>\n",
              "      </button>\n",
              "      \n",
              "  <style>\n",
              "    .colab-df-container {\n",
              "      display:flex;\n",
              "      flex-wrap:wrap;\n",
              "      gap: 12px;\n",
              "    }\n",
              "\n",
              "    .colab-df-convert {\n",
              "      background-color: #E8F0FE;\n",
              "      border: none;\n",
              "      border-radius: 50%;\n",
              "      cursor: pointer;\n",
              "      display: none;\n",
              "      fill: #1967D2;\n",
              "      height: 32px;\n",
              "      padding: 0 0 0 0;\n",
              "      width: 32px;\n",
              "    }\n",
              "\n",
              "    .colab-df-convert:hover {\n",
              "      background-color: #E2EBFA;\n",
              "      box-shadow: 0px 1px 2px rgba(60, 64, 67, 0.3), 0px 1px 3px 1px rgba(60, 64, 67, 0.15);\n",
              "      fill: #174EA6;\n",
              "    }\n",
              "\n",
              "    [theme=dark] .colab-df-convert {\n",
              "      background-color: #3B4455;\n",
              "      fill: #D2E3FC;\n",
              "    }\n",
              "\n",
              "    [theme=dark] .colab-df-convert:hover {\n",
              "      background-color: #434B5C;\n",
              "      box-shadow: 0px 1px 3px 1px rgba(0, 0, 0, 0.15);\n",
              "      filter: drop-shadow(0px 1px 2px rgba(0, 0, 0, 0.3));\n",
              "      fill: #FFFFFF;\n",
              "    }\n",
              "  </style>\n",
              "\n",
              "      <script>\n",
              "        const buttonEl =\n",
              "          document.querySelector('#df-441dfcbc-0c8a-4a9c-895e-7f6d96fe2cf9 button.colab-df-convert');\n",
              "        buttonEl.style.display =\n",
              "          google.colab.kernel.accessAllowed ? 'block' : 'none';\n",
              "\n",
              "        async function convertToInteractive(key) {\n",
              "          const element = document.querySelector('#df-441dfcbc-0c8a-4a9c-895e-7f6d96fe2cf9');\n",
              "          const dataTable =\n",
              "            await google.colab.kernel.invokeFunction('convertToInteractive',\n",
              "                                                     [key], {});\n",
              "          if (!dataTable) return;\n",
              "\n",
              "          const docLinkHtml = 'Like what you see? Visit the ' +\n",
              "            '<a target=\"_blank\" href=https://colab.research.google.com/notebooks/data_table.ipynb>data table notebook</a>'\n",
              "            + ' to learn more about interactive tables.';\n",
              "          element.innerHTML = '';\n",
              "          dataTable['output_type'] = 'display_data';\n",
              "          await google.colab.output.renderOutput(dataTable, element);\n",
              "          const docLink = document.createElement('div');\n",
              "          docLink.innerHTML = docLinkHtml;\n",
              "          element.appendChild(docLink);\n",
              "        }\n",
              "      </script>\n",
              "    </div>\n",
              "  </div>\n",
              "  "
            ]
          },
          "metadata": {},
          "execution_count": 239
        }
      ]
    },
    {
      "cell_type": "code",
      "source": [
        "from sklearn.model_selection import train_test_split\n",
        "train, test = train_test_split(data, test_size=0.2)\n",
        "train"
      ],
      "metadata": {
        "colab": {
          "base_uri": "https://localhost:8080/",
          "height": 424
        },
        "id": "NGUcOiM3QB2v",
        "outputId": "e86d00e4-e720-4c35-e485-95eadf1547b0"
      },
      "execution_count": 246,
      "outputs": [
        {
          "output_type": "execute_result",
          "data": {
            "text/plain": [
              "       LIMIT_BAL  SEX  EDUCATION  MARRIAGE  AGE  PAY_0  PAY_2  PAY_3  PAY_4  \\\n",
              "490     260000.0    2          1         1   34     -1     -1     -1     -1   \n",
              "10188   170000.0    1          1         2   27      0      0      0      0   \n",
              "1351     50000.0    1          2         2   29      1     -2     -2     -2   \n",
              "6966     50000.0    2          3         2   23      0      0      0      0   \n",
              "18725    20000.0    2          2         1   28     -1     -1      0      0   \n",
              "...          ...  ...        ...       ...  ...    ...    ...    ...    ...   \n",
              "16317   160000.0    2          3         1   36      0      0      0      0   \n",
              "467     220000.0    1          1         2   38      0      0      0      0   \n",
              "4271    170000.0    2          1         1   36      0      0      0      0   \n",
              "4262     30000.0    2          2         2   50      0      0      2      0   \n",
              "10225    80000.0    2          3         3   60      0      0      0      0   \n",
              "\n",
              "       PAY_5  ...  BILL_AMT4  BILL_AMT5  BILL_AMT6  PAY_AMT1  PAY_AMT2  \\\n",
              "490       -1  ...     3885.0     4414.0     2514.0    6277.0    4663.0   \n",
              "10188      0  ...    25739.0    30372.0    34924.0    4000.0    5000.0   \n",
              "1351      -2  ...        0.0        0.0        0.0       0.0       0.0   \n",
              "6966       0  ...    29894.0    30125.0    30192.0    1500.0    1467.0   \n",
              "18725      0  ...    15991.0    18442.0    18827.0   10094.0   10000.0   \n",
              "...      ...  ...        ...        ...        ...       ...       ...   \n",
              "16317      2  ...    79438.0    72451.0    39831.0    5000.0   10000.0   \n",
              "467        0  ...   218541.0   167743.0   165300.0    8909.0    7500.0   \n",
              "4271       0  ...    51410.0    52429.0    53554.0    3182.0    3000.0   \n",
              "4262       0  ...    28763.0    29383.0    28987.0    4664.0       0.0   \n",
              "10225      0  ...     6515.0     6845.0     5789.0    1458.0    1230.0   \n",
              "\n",
              "       PAY_AMT3  PAY_AMT4  PAY_AMT5  PAY_AMT6  default.payment.next.month  \n",
              "490      4140.0    4414.0    2646.0    7725.0                           0  \n",
              "10188    5000.0    5000.0    5000.0    5000.0                           0  \n",
              "1351        0.0       0.0       0.0       0.0                           0  \n",
              "6966     1201.0    1236.0    1103.0    1042.0                           0  \n",
              "18725    1549.0    3000.0     790.0    1000.0                           0  \n",
              "...         ...       ...       ...       ...                         ...  \n",
              "16317    5018.0     127.0   10015.0      69.0                           0  \n",
              "467      9000.0    6729.0    6000.0    7009.0                           1  \n",
              "4271     1990.0    2000.0    2000.0    3000.0                           0  \n",
              "4262      994.0    1047.0    1412.0     756.0                           0  \n",
              "10225     250.0     800.0       0.0     300.0                           0  \n",
              "\n",
              "[24000 rows x 24 columns]"
            ],
            "text/html": [
              "\n",
              "  <div id=\"df-fcbfb90f-4750-483f-9a46-6fa26f6f100a\">\n",
              "    <div class=\"colab-df-container\">\n",
              "      <div>\n",
              "<style scoped>\n",
              "    .dataframe tbody tr th:only-of-type {\n",
              "        vertical-align: middle;\n",
              "    }\n",
              "\n",
              "    .dataframe tbody tr th {\n",
              "        vertical-align: top;\n",
              "    }\n",
              "\n",
              "    .dataframe thead th {\n",
              "        text-align: right;\n",
              "    }\n",
              "</style>\n",
              "<table border=\"1\" class=\"dataframe\">\n",
              "  <thead>\n",
              "    <tr style=\"text-align: right;\">\n",
              "      <th></th>\n",
              "      <th>LIMIT_BAL</th>\n",
              "      <th>SEX</th>\n",
              "      <th>EDUCATION</th>\n",
              "      <th>MARRIAGE</th>\n",
              "      <th>AGE</th>\n",
              "      <th>PAY_0</th>\n",
              "      <th>PAY_2</th>\n",
              "      <th>PAY_3</th>\n",
              "      <th>PAY_4</th>\n",
              "      <th>PAY_5</th>\n",
              "      <th>...</th>\n",
              "      <th>BILL_AMT4</th>\n",
              "      <th>BILL_AMT5</th>\n",
              "      <th>BILL_AMT6</th>\n",
              "      <th>PAY_AMT1</th>\n",
              "      <th>PAY_AMT2</th>\n",
              "      <th>PAY_AMT3</th>\n",
              "      <th>PAY_AMT4</th>\n",
              "      <th>PAY_AMT5</th>\n",
              "      <th>PAY_AMT6</th>\n",
              "      <th>default.payment.next.month</th>\n",
              "    </tr>\n",
              "  </thead>\n",
              "  <tbody>\n",
              "    <tr>\n",
              "      <th>490</th>\n",
              "      <td>260000.0</td>\n",
              "      <td>2</td>\n",
              "      <td>1</td>\n",
              "      <td>1</td>\n",
              "      <td>34</td>\n",
              "      <td>-1</td>\n",
              "      <td>-1</td>\n",
              "      <td>-1</td>\n",
              "      <td>-1</td>\n",
              "      <td>-1</td>\n",
              "      <td>...</td>\n",
              "      <td>3885.0</td>\n",
              "      <td>4414.0</td>\n",
              "      <td>2514.0</td>\n",
              "      <td>6277.0</td>\n",
              "      <td>4663.0</td>\n",
              "      <td>4140.0</td>\n",
              "      <td>4414.0</td>\n",
              "      <td>2646.0</td>\n",
              "      <td>7725.0</td>\n",
              "      <td>0</td>\n",
              "    </tr>\n",
              "    <tr>\n",
              "      <th>10188</th>\n",
              "      <td>170000.0</td>\n",
              "      <td>1</td>\n",
              "      <td>1</td>\n",
              "      <td>2</td>\n",
              "      <td>27</td>\n",
              "      <td>0</td>\n",
              "      <td>0</td>\n",
              "      <td>0</td>\n",
              "      <td>0</td>\n",
              "      <td>0</td>\n",
              "      <td>...</td>\n",
              "      <td>25739.0</td>\n",
              "      <td>30372.0</td>\n",
              "      <td>34924.0</td>\n",
              "      <td>4000.0</td>\n",
              "      <td>5000.0</td>\n",
              "      <td>5000.0</td>\n",
              "      <td>5000.0</td>\n",
              "      <td>5000.0</td>\n",
              "      <td>5000.0</td>\n",
              "      <td>0</td>\n",
              "    </tr>\n",
              "    <tr>\n",
              "      <th>1351</th>\n",
              "      <td>50000.0</td>\n",
              "      <td>1</td>\n",
              "      <td>2</td>\n",
              "      <td>2</td>\n",
              "      <td>29</td>\n",
              "      <td>1</td>\n",
              "      <td>-2</td>\n",
              "      <td>-2</td>\n",
              "      <td>-2</td>\n",
              "      <td>-2</td>\n",
              "      <td>...</td>\n",
              "      <td>0.0</td>\n",
              "      <td>0.0</td>\n",
              "      <td>0.0</td>\n",
              "      <td>0.0</td>\n",
              "      <td>0.0</td>\n",
              "      <td>0.0</td>\n",
              "      <td>0.0</td>\n",
              "      <td>0.0</td>\n",
              "      <td>0.0</td>\n",
              "      <td>0</td>\n",
              "    </tr>\n",
              "    <tr>\n",
              "      <th>6966</th>\n",
              "      <td>50000.0</td>\n",
              "      <td>2</td>\n",
              "      <td>3</td>\n",
              "      <td>2</td>\n",
              "      <td>23</td>\n",
              "      <td>0</td>\n",
              "      <td>0</td>\n",
              "      <td>0</td>\n",
              "      <td>0</td>\n",
              "      <td>0</td>\n",
              "      <td>...</td>\n",
              "      <td>29894.0</td>\n",
              "      <td>30125.0</td>\n",
              "      <td>30192.0</td>\n",
              "      <td>1500.0</td>\n",
              "      <td>1467.0</td>\n",
              "      <td>1201.0</td>\n",
              "      <td>1236.0</td>\n",
              "      <td>1103.0</td>\n",
              "      <td>1042.0</td>\n",
              "      <td>0</td>\n",
              "    </tr>\n",
              "    <tr>\n",
              "      <th>18725</th>\n",
              "      <td>20000.0</td>\n",
              "      <td>2</td>\n",
              "      <td>2</td>\n",
              "      <td>1</td>\n",
              "      <td>28</td>\n",
              "      <td>-1</td>\n",
              "      <td>-1</td>\n",
              "      <td>0</td>\n",
              "      <td>0</td>\n",
              "      <td>0</td>\n",
              "      <td>...</td>\n",
              "      <td>15991.0</td>\n",
              "      <td>18442.0</td>\n",
              "      <td>18827.0</td>\n",
              "      <td>10094.0</td>\n",
              "      <td>10000.0</td>\n",
              "      <td>1549.0</td>\n",
              "      <td>3000.0</td>\n",
              "      <td>790.0</td>\n",
              "      <td>1000.0</td>\n",
              "      <td>0</td>\n",
              "    </tr>\n",
              "    <tr>\n",
              "      <th>...</th>\n",
              "      <td>...</td>\n",
              "      <td>...</td>\n",
              "      <td>...</td>\n",
              "      <td>...</td>\n",
              "      <td>...</td>\n",
              "      <td>...</td>\n",
              "      <td>...</td>\n",
              "      <td>...</td>\n",
              "      <td>...</td>\n",
              "      <td>...</td>\n",
              "      <td>...</td>\n",
              "      <td>...</td>\n",
              "      <td>...</td>\n",
              "      <td>...</td>\n",
              "      <td>...</td>\n",
              "      <td>...</td>\n",
              "      <td>...</td>\n",
              "      <td>...</td>\n",
              "      <td>...</td>\n",
              "      <td>...</td>\n",
              "      <td>...</td>\n",
              "    </tr>\n",
              "    <tr>\n",
              "      <th>16317</th>\n",
              "      <td>160000.0</td>\n",
              "      <td>2</td>\n",
              "      <td>3</td>\n",
              "      <td>1</td>\n",
              "      <td>36</td>\n",
              "      <td>0</td>\n",
              "      <td>0</td>\n",
              "      <td>0</td>\n",
              "      <td>0</td>\n",
              "      <td>2</td>\n",
              "      <td>...</td>\n",
              "      <td>79438.0</td>\n",
              "      <td>72451.0</td>\n",
              "      <td>39831.0</td>\n",
              "      <td>5000.0</td>\n",
              "      <td>10000.0</td>\n",
              "      <td>5018.0</td>\n",
              "      <td>127.0</td>\n",
              "      <td>10015.0</td>\n",
              "      <td>69.0</td>\n",
              "      <td>0</td>\n",
              "    </tr>\n",
              "    <tr>\n",
              "      <th>467</th>\n",
              "      <td>220000.0</td>\n",
              "      <td>1</td>\n",
              "      <td>1</td>\n",
              "      <td>2</td>\n",
              "      <td>38</td>\n",
              "      <td>0</td>\n",
              "      <td>0</td>\n",
              "      <td>0</td>\n",
              "      <td>0</td>\n",
              "      <td>0</td>\n",
              "      <td>...</td>\n",
              "      <td>218541.0</td>\n",
              "      <td>167743.0</td>\n",
              "      <td>165300.0</td>\n",
              "      <td>8909.0</td>\n",
              "      <td>7500.0</td>\n",
              "      <td>9000.0</td>\n",
              "      <td>6729.0</td>\n",
              "      <td>6000.0</td>\n",
              "      <td>7009.0</td>\n",
              "      <td>1</td>\n",
              "    </tr>\n",
              "    <tr>\n",
              "      <th>4271</th>\n",
              "      <td>170000.0</td>\n",
              "      <td>2</td>\n",
              "      <td>1</td>\n",
              "      <td>1</td>\n",
              "      <td>36</td>\n",
              "      <td>0</td>\n",
              "      <td>0</td>\n",
              "      <td>0</td>\n",
              "      <td>0</td>\n",
              "      <td>0</td>\n",
              "      <td>...</td>\n",
              "      <td>51410.0</td>\n",
              "      <td>52429.0</td>\n",
              "      <td>53554.0</td>\n",
              "      <td>3182.0</td>\n",
              "      <td>3000.0</td>\n",
              "      <td>1990.0</td>\n",
              "      <td>2000.0</td>\n",
              "      <td>2000.0</td>\n",
              "      <td>3000.0</td>\n",
              "      <td>0</td>\n",
              "    </tr>\n",
              "    <tr>\n",
              "      <th>4262</th>\n",
              "      <td>30000.0</td>\n",
              "      <td>2</td>\n",
              "      <td>2</td>\n",
              "      <td>2</td>\n",
              "      <td>50</td>\n",
              "      <td>0</td>\n",
              "      <td>0</td>\n",
              "      <td>2</td>\n",
              "      <td>0</td>\n",
              "      <td>0</td>\n",
              "      <td>...</td>\n",
              "      <td>28763.0</td>\n",
              "      <td>29383.0</td>\n",
              "      <td>28987.0</td>\n",
              "      <td>4664.0</td>\n",
              "      <td>0.0</td>\n",
              "      <td>994.0</td>\n",
              "      <td>1047.0</td>\n",
              "      <td>1412.0</td>\n",
              "      <td>756.0</td>\n",
              "      <td>0</td>\n",
              "    </tr>\n",
              "    <tr>\n",
              "      <th>10225</th>\n",
              "      <td>80000.0</td>\n",
              "      <td>2</td>\n",
              "      <td>3</td>\n",
              "      <td>3</td>\n",
              "      <td>60</td>\n",
              "      <td>0</td>\n",
              "      <td>0</td>\n",
              "      <td>0</td>\n",
              "      <td>0</td>\n",
              "      <td>0</td>\n",
              "      <td>...</td>\n",
              "      <td>6515.0</td>\n",
              "      <td>6845.0</td>\n",
              "      <td>5789.0</td>\n",
              "      <td>1458.0</td>\n",
              "      <td>1230.0</td>\n",
              "      <td>250.0</td>\n",
              "      <td>800.0</td>\n",
              "      <td>0.0</td>\n",
              "      <td>300.0</td>\n",
              "      <td>0</td>\n",
              "    </tr>\n",
              "  </tbody>\n",
              "</table>\n",
              "<p>24000 rows × 24 columns</p>\n",
              "</div>\n",
              "      <button class=\"colab-df-convert\" onclick=\"convertToInteractive('df-fcbfb90f-4750-483f-9a46-6fa26f6f100a')\"\n",
              "              title=\"Convert this dataframe to an interactive table.\"\n",
              "              style=\"display:none;\">\n",
              "        \n",
              "  <svg xmlns=\"http://www.w3.org/2000/svg\" height=\"24px\"viewBox=\"0 0 24 24\"\n",
              "       width=\"24px\">\n",
              "    <path d=\"M0 0h24v24H0V0z\" fill=\"none\"/>\n",
              "    <path d=\"M18.56 5.44l.94 2.06.94-2.06 2.06-.94-2.06-.94-.94-2.06-.94 2.06-2.06.94zm-11 1L8.5 8.5l.94-2.06 2.06-.94-2.06-.94L8.5 2.5l-.94 2.06-2.06.94zm10 10l.94 2.06.94-2.06 2.06-.94-2.06-.94-.94-2.06-.94 2.06-2.06.94z\"/><path d=\"M17.41 7.96l-1.37-1.37c-.4-.4-.92-.59-1.43-.59-.52 0-1.04.2-1.43.59L10.3 9.45l-7.72 7.72c-.78.78-.78 2.05 0 2.83L4 21.41c.39.39.9.59 1.41.59.51 0 1.02-.2 1.41-.59l7.78-7.78 2.81-2.81c.8-.78.8-2.07 0-2.86zM5.41 20L4 18.59l7.72-7.72 1.47 1.35L5.41 20z\"/>\n",
              "  </svg>\n",
              "      </button>\n",
              "      \n",
              "  <style>\n",
              "    .colab-df-container {\n",
              "      display:flex;\n",
              "      flex-wrap:wrap;\n",
              "      gap: 12px;\n",
              "    }\n",
              "\n",
              "    .colab-df-convert {\n",
              "      background-color: #E8F0FE;\n",
              "      border: none;\n",
              "      border-radius: 50%;\n",
              "      cursor: pointer;\n",
              "      display: none;\n",
              "      fill: #1967D2;\n",
              "      height: 32px;\n",
              "      padding: 0 0 0 0;\n",
              "      width: 32px;\n",
              "    }\n",
              "\n",
              "    .colab-df-convert:hover {\n",
              "      background-color: #E2EBFA;\n",
              "      box-shadow: 0px 1px 2px rgba(60, 64, 67, 0.3), 0px 1px 3px 1px rgba(60, 64, 67, 0.15);\n",
              "      fill: #174EA6;\n",
              "    }\n",
              "\n",
              "    [theme=dark] .colab-df-convert {\n",
              "      background-color: #3B4455;\n",
              "      fill: #D2E3FC;\n",
              "    }\n",
              "\n",
              "    [theme=dark] .colab-df-convert:hover {\n",
              "      background-color: #434B5C;\n",
              "      box-shadow: 0px 1px 3px 1px rgba(0, 0, 0, 0.15);\n",
              "      filter: drop-shadow(0px 1px 2px rgba(0, 0, 0, 0.3));\n",
              "      fill: #FFFFFF;\n",
              "    }\n",
              "  </style>\n",
              "\n",
              "      <script>\n",
              "        const buttonEl =\n",
              "          document.querySelector('#df-fcbfb90f-4750-483f-9a46-6fa26f6f100a button.colab-df-convert');\n",
              "        buttonEl.style.display =\n",
              "          google.colab.kernel.accessAllowed ? 'block' : 'none';\n",
              "\n",
              "        async function convertToInteractive(key) {\n",
              "          const element = document.querySelector('#df-fcbfb90f-4750-483f-9a46-6fa26f6f100a');\n",
              "          const dataTable =\n",
              "            await google.colab.kernel.invokeFunction('convertToInteractive',\n",
              "                                                     [key], {});\n",
              "          if (!dataTable) return;\n",
              "\n",
              "          const docLinkHtml = 'Like what you see? Visit the ' +\n",
              "            '<a target=\"_blank\" href=https://colab.research.google.com/notebooks/data_table.ipynb>data table notebook</a>'\n",
              "            + ' to learn more about interactive tables.';\n",
              "          element.innerHTML = '';\n",
              "          dataTable['output_type'] = 'display_data';\n",
              "          await google.colab.output.renderOutput(dataTable, element);\n",
              "          const docLink = document.createElement('div');\n",
              "          docLink.innerHTML = docLinkHtml;\n",
              "          element.appendChild(docLink);\n",
              "        }\n",
              "      </script>\n",
              "    </div>\n",
              "  </div>\n",
              "  "
            ]
          },
          "metadata": {},
          "execution_count": 246
        }
      ]
    },
    {
      "cell_type": "code",
      "source": [
        "label_name='default.payment.next.month'\n",
        "features = train[data_names[:-1]].values\n",
        "labels = train[label_name].values\n",
        "features\n"
      ],
      "metadata": {
        "colab": {
          "base_uri": "https://localhost:8080/"
        },
        "id": "0YIXPJBQMhaM",
        "outputId": "0af98adc-096a-46b0-e956-164e89b629ac"
      },
      "execution_count": 247,
      "outputs": [
        {
          "output_type": "execute_result",
          "data": {
            "text/plain": [
              "array([[ 2,  1,  1, 34],\n",
              "       [ 1,  1,  2, 27],\n",
              "       [ 1,  2,  2, 29],\n",
              "       ...,\n",
              "       [ 2,  1,  1, 36],\n",
              "       [ 2,  2,  2, 50],\n",
              "       [ 2,  3,  3, 60]])"
            ]
          },
          "metadata": {},
          "execution_count": 247
        }
      ]
    },
    {
      "cell_type": "code",
      "source": [
        "labels = convert_features_frame_to_numpy(labels)\n",
        "labels = np.expand_dims(labels, axis=0)"
      ],
      "metadata": {
        "id": "2GC9B0esRk_n"
      },
      "execution_count": 275,
      "outputs": []
    },
    {
      "cell_type": "code",
      "source": [
        "print(labels.shape)"
      ],
      "metadata": {
        "colab": {
          "base_uri": "https://localhost:8080/"
        },
        "id": "S-Tk7mW5O8Ek",
        "outputId": "2c17c320-5c8b-4a0e-c0e7-84efb52cb36f"
      },
      "execution_count": 274,
      "outputs": [
        {
          "output_type": "stream",
          "name": "stdout",
          "text": [
            "(1, 24000)\n"
          ]
        }
      ]
    },
    {
      "cell_type": "code",
      "source": [
        "\n",
        "train_features = convert_features_frame_to_numpy(train_features)\n",
        "test_features = convert_features_frame_to_numpy(test_features)\n",
        "\n",
        "model = create_model(dim)\n",
        "init_weights = get_model_weights(model)\n",
        "\n",
        "if tune:\n",
        "  tune_history = tune_learning_rate(model,train_features,train_labels)\n",
        "  plot_learning_rate(tune_history)\n",
        "\n",
        "model = model_compile(model,init_weights,learning_rate=8e-5)\n",
        "\n",
        "history = train_model(model,train_features,train_labels)\n",
        "\n",
        "plot_history(history)\n",
        "\n",
        "result = test_model(model,test_features, test_labels)"
      ],
      "metadata": {
        "id": "hyv8ohxTMSZp"
      },
      "execution_count": null,
      "outputs": []
    }
  ]
}